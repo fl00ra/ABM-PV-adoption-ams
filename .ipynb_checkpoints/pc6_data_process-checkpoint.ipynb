{
 "cells": [
  {
   "cell_type": "code",
   "execution_count": 7,
   "id": "506add0e-8f34-4d61-be33-bfc45ec23a31",
   "metadata": {},
   "outputs": [],
   "source": [
    "import pandas as pd\n",
    "import numpy as np\n",
    "import matplotlib.pyplot as plt\n",
    "import seaborn as sns"
   ]
  },
  {
   "cell_type": "code",
   "execution_count": 8,
   "id": "4cfecec3-b1fb-4d60-a5d5-85416e3d457c",
   "metadata": {},
   "outputs": [],
   "source": [
    "path = \"2025-cbs_pc6_2022_vol/pc6_2022_vol.xlsx\""
   ]
  },
  {
   "cell_type": "code",
   "execution_count": null,
   "id": "87007a87",
   "metadata": {},
   "outputs": [],
   "source": [
    "df = pd.read_excel(path, skiprows=5, header=[0, 1])  \n",
    "\n",
    "df.columns = ['_'.join(filter(None, col)).strip() for col in df.columns]\n",
    "\n",
    "df = df.rename(columns={\n",
    "    df.columns[0]: \"postcode6\",\n",
    "    \"Huishouden_Totaal\": \"total_households\",\n",
    "    \"Huishouden_Samenstelling_Eenpersoonshuishouden\": \"single\",\n",
    "    \"Huishouden_Samenstelling_Meepersoons zonder kinderen\": \"couple_no_kids\",\n",
    "    \"Huishouden_Samenstelling_Eenouder\": \"single_parent\",\n",
    "    \"Huishouden_Samenstelling_Tweeouder\": \"with_kids\",\n",
    "    \"Energie. gedurende 2022_Elektra verbruik\": \"elek_usage\",\n",
    "    \"Sociale Zekerheid_Totaal uitkeringen_Personen met WW, Bijstand en/of AO uitkering Beneden AOW-leeftijd\": \"uitkering\"\n",
    "})\n",
    "\n",
    "df = df.replace(-99997, pd.NA)\n",
    "df = df[df[\"postcode6\"].notna()]\n",
    "df[\"postcode6\"] = df[\"postcode6\"].astype(str).str.replace(r\"\\s+\", \"\", regex=True).str.upper()\n",
    "\n",
    "numeric_cols = [\"total_households\", \"single\", \"couple_no_kids\", \"single_parent\", \"with_kids\", \"elek_usage\", \"uitkering\"]\n",
    "df[numeric_cols] = df[numeric_cols].apply(pd.to_numeric, errors=\"coerce\")\n",
    "\n",
    "df = df[df[\"total_households\"] > 0]\n",
    "\n",
    "def fill_HHtype(df):\n",
    "    cols = [\"total_households\", \"single\", \"couple_no_kids\", \"single_parent\", \"with_kids\"]\n",
    "    df[cols] = df[cols].apply(pd.to_numeric, errors=\"coerce\")\n",
    "\n",
    "    for idx, row in df.iterrows():\n",
    "        known = row[[\"single\", \"couple_no_kids\", \"single_parent\", \"with_kids\"]].dropna()\n",
    "        sum_known = known.sum()\n",
    "        total = row[\"total_households\"]\n",
    "\n",
    "        if pd.notna(total) and sum_known < total:\n",
    "            missing = total - sum_known\n",
    "            for col in [\"single\", \"couple_no_kids\", \"single_parent\", \"with_kids\"]:\n",
    "                if pd.isna(row[col]):\n",
    "                    df.at[idx, col] = missing\n",
    "                    break\n",
    "        else:\n",
    "            for col in [\"single\", \"couple_no_kids\", \"single_parent\", \"with_kids\"]:\n",
    "                if pd.isna(row[col]):\n",
    "                    df.at[idx, col] = 0\n",
    "\n",
    "    df[cols[1:]] = df[cols[1:]].astype(int)\n",
    "    return df\n",
    "\n",
    "df = fill_missing(df)\n",
    "\n",
    "df.to_csv(\"cleaned_household_data.csv\", index=False)\n"
   ]
  },
  {
   "cell_type": "code",
   "execution_count": 9,
   "id": "ba29533a-29b3-43c3-ac31-add61cbaac07",
   "metadata": {
    "notebookRunGroups": {
     "groupValue": ""
    }
   },
   "outputs": [],
   "source": [
    "# def load_household_summary(path):\n",
    "#     df = pd.read_excel(path, skiprows=5, header=[0, 1])\n",
    "\n",
    "#     df.columns = ['_'.join(filter(None, col)).strip() for col in df.columns]\n",
    "\n",
    "\n",
    "#     df = df.rename(columns={\n",
    "#         df.columns[0]: \"postcode6\",  \n",
    "#         \"Huishouden_Totaal\": \"total_households\",\n",
    "#         \"Huishouden_Samenstelling_Eenpersoonshuishouden\": \"single\",\n",
    "#         \"Huishouden_Samenstelling_Meepersoons zonder kinderen\": \"couple_no_kids\",\n",
    "#         \"Huishouden_Samenstelling_Eenouder\": \"single_parent\",\n",
    "#         \"Huishouden_Samenstelling_Tweeouder\": \"with_kids\",\n",
    "#         \"Energie. gedurende 2022_Elektra verbruik\": \"elek_usage\",\n",
    "#         \"Sociale Zekerheid_Totaal uitkeringen_Personen met WW, Bijstand en/of AO uitkering Beneden AOW-leeftijd\": \"uitkering\"\n",
    "#     })\n",
    "\n",
    "#     cols_needed = [\n",
    "#         \"postcode6\", \"total_households\",\n",
    "#         \"single\", \"couple_no_kids\", \"single_parent\", \"with_kids\",\n",
    "#         \"elek_usage\", \"uitkering\"\n",
    "#         ]\n",
    "#     df = df[cols_needed]\n",
    "\n",
    "\n",
    "#     df = df.replace(-99997, np.nan)\n",
    "#     df = df.dropna(subset=[\"postcode6\", \"total_households\"])\n",
    "\n",
    "#     int_cols = [\"total_households\", \"single\", \"couple_no_kids\", \"single_parent\", \"with_kids\", \"uitkering\"]\n",
    "#     for col in int_cols:\n",
    "#         df[col] = pd.to_numeric(df[col], errors=\"coerce\").fillna(0).astype(int)\n",
    "\n",
    "#     df[\"elek_usage\"] = pd.to_numeric(df[\"elek_usage\"], errors=\"coerce\").fillna(2500).astype(float)\n",
    "\n",
    "#     df[\"pct_single\"] = df[\"single\"] / df[\"total_households\"]\n",
    "#     df[\"pct_with_kids\"] = df[\"with_kids\"] / df[\"total_households\"]\n",
    "#     # df[\"pct_rental\"] = df[\"rental\"] / df[\"total_households\"]\n",
    "#     df[\"pct_lihe\"] = df[\"uitkering\"] / df[\"total_households\"]\n",
    "\n",
    "#     return df"
   ]
  },
  {
   "cell_type": "code",
   "execution_count": 10,
   "id": "e828ea4d-bac0-4e3e-9e8e-71fbd131e98f",
   "metadata": {},
   "outputs": [
    {
     "ename": "KeyError",
     "evalue": "\"['total_households', 'single', 'couple_no_kids', 'single_parent', 'with_kids', 'elek_usage', 'uitkering'] not in index\"",
     "output_type": "error",
     "traceback": [
      "\u001b[0;31m---------------------------------------------------------------------------\u001b[0m",
      "\u001b[0;31mKeyError\u001b[0m                                  Traceback (most recent call last)",
      "Cell \u001b[0;32mIn[10], line 1\u001b[0m\n\u001b[0;32m----> 1\u001b[0m df \u001b[39m=\u001b[39m load_household_summary(path)\n\u001b[1;32m      2\u001b[0m \u001b[39mprint\u001b[39m(df\u001b[39m.\u001b[39mhead(\u001b[39m10\u001b[39m))\n",
      "Cell \u001b[0;32mIn[9], line 23\u001b[0m, in \u001b[0;36mload_household_summary\u001b[0;34m(path)\u001b[0m\n\u001b[1;32m      7\u001b[0m df \u001b[39m=\u001b[39m df\u001b[39m.\u001b[39mrename(columns\u001b[39m=\u001b[39m{\n\u001b[1;32m      8\u001b[0m     df\u001b[39m.\u001b[39mcolumns[\u001b[39m0\u001b[39m]: \u001b[39m\"\u001b[39m\u001b[39mpostcode6\u001b[39m\u001b[39m\"\u001b[39m,  \n\u001b[1;32m      9\u001b[0m     \u001b[39m\"\u001b[39m\u001b[39mHuishouden_Totaal\u001b[39m\u001b[39m\"\u001b[39m: \u001b[39m\"\u001b[39m\u001b[39mtotal_households\u001b[39m\u001b[39m\"\u001b[39m,\n\u001b[0;32m   (...)\u001b[0m\n\u001b[1;32m     15\u001b[0m     \u001b[39m\"\u001b[39m\u001b[39mSociale Zekerheid_Totaal uitkeringen_Personen met WW, Bijstand en/of AO uitkering Beneden AOW-leeftijd\u001b[39m\u001b[39m\"\u001b[39m: \u001b[39m\"\u001b[39m\u001b[39muitkering\u001b[39m\u001b[39m\"\u001b[39m\n\u001b[1;32m     16\u001b[0m })\n\u001b[1;32m     18\u001b[0m cols_needed \u001b[39m=\u001b[39m [\n\u001b[1;32m     19\u001b[0m     \u001b[39m\"\u001b[39m\u001b[39mpostcode6\u001b[39m\u001b[39m\"\u001b[39m, \u001b[39m\"\u001b[39m\u001b[39mtotal_households\u001b[39m\u001b[39m\"\u001b[39m,\n\u001b[1;32m     20\u001b[0m     \u001b[39m\"\u001b[39m\u001b[39msingle\u001b[39m\u001b[39m\"\u001b[39m, \u001b[39m\"\u001b[39m\u001b[39mcouple_no_kids\u001b[39m\u001b[39m\"\u001b[39m, \u001b[39m\"\u001b[39m\u001b[39msingle_parent\u001b[39m\u001b[39m\"\u001b[39m, \u001b[39m\"\u001b[39m\u001b[39mwith_kids\u001b[39m\u001b[39m\"\u001b[39m,\n\u001b[1;32m     21\u001b[0m     \u001b[39m\"\u001b[39m\u001b[39melek_usage\u001b[39m\u001b[39m\"\u001b[39m, \u001b[39m\"\u001b[39m\u001b[39muitkering\u001b[39m\u001b[39m\"\u001b[39m\n\u001b[1;32m     22\u001b[0m     ]\n\u001b[0;32m---> 23\u001b[0m df \u001b[39m=\u001b[39m df[cols_needed]\n\u001b[1;32m     26\u001b[0m df \u001b[39m=\u001b[39m df\u001b[39m.\u001b[39mreplace(\u001b[39m-\u001b[39m\u001b[39m99997\u001b[39m, np\u001b[39m.\u001b[39mnan)\n\u001b[1;32m     27\u001b[0m df \u001b[39m=\u001b[39m df\u001b[39m.\u001b[39mdropna(subset\u001b[39m=\u001b[39m[\u001b[39m\"\u001b[39m\u001b[39mpostcode6\u001b[39m\u001b[39m\"\u001b[39m, \u001b[39m\"\u001b[39m\u001b[39mtotal_households\u001b[39m\u001b[39m\"\u001b[39m])\n",
      "File \u001b[0;32m/opt/anaconda3/lib/python3.12/site-packages/pandas/core/frame.py:4108\u001b[0m, in \u001b[0;36mDataFrame.__getitem__\u001b[0;34m(self, key)\u001b[0m\n\u001b[1;32m   4106\u001b[0m     \u001b[39mif\u001b[39;00m is_iterator(key):\n\u001b[1;32m   4107\u001b[0m         key \u001b[39m=\u001b[39m \u001b[39mlist\u001b[39m(key)\n\u001b[0;32m-> 4108\u001b[0m     indexer \u001b[39m=\u001b[39m \u001b[39mself\u001b[39m\u001b[39m.\u001b[39mcolumns\u001b[39m.\u001b[39m_get_indexer_strict(key, \u001b[39m\"\u001b[39m\u001b[39mcolumns\u001b[39m\u001b[39m\"\u001b[39m)[\u001b[39m1\u001b[39m]\n\u001b[1;32m   4110\u001b[0m \u001b[39m# take() does not accept boolean indexers\u001b[39;00m\n\u001b[1;32m   4111\u001b[0m \u001b[39mif\u001b[39;00m \u001b[39mgetattr\u001b[39m(indexer, \u001b[39m\"\u001b[39m\u001b[39mdtype\u001b[39m\u001b[39m\"\u001b[39m, \u001b[39mNone\u001b[39;00m) \u001b[39m==\u001b[39m \u001b[39mbool\u001b[39m:\n",
      "File \u001b[0;32m/opt/anaconda3/lib/python3.12/site-packages/pandas/core/indexes/base.py:6200\u001b[0m, in \u001b[0;36mIndex._get_indexer_strict\u001b[0;34m(self, key, axis_name)\u001b[0m\n\u001b[1;32m   6197\u001b[0m \u001b[39melse\u001b[39;00m:\n\u001b[1;32m   6198\u001b[0m     keyarr, indexer, new_indexer \u001b[39m=\u001b[39m \u001b[39mself\u001b[39m\u001b[39m.\u001b[39m_reindex_non_unique(keyarr)\n\u001b[0;32m-> 6200\u001b[0m \u001b[39mself\u001b[39m\u001b[39m.\u001b[39m_raise_if_missing(keyarr, indexer, axis_name)\n\u001b[1;32m   6202\u001b[0m keyarr \u001b[39m=\u001b[39m \u001b[39mself\u001b[39m\u001b[39m.\u001b[39mtake(indexer)\n\u001b[1;32m   6203\u001b[0m \u001b[39mif\u001b[39;00m \u001b[39misinstance\u001b[39m(key, Index):\n\u001b[1;32m   6204\u001b[0m     \u001b[39m# GH 42790 - Preserve name from an Index\u001b[39;00m\n",
      "File \u001b[0;32m/opt/anaconda3/lib/python3.12/site-packages/pandas/core/indexes/base.py:6252\u001b[0m, in \u001b[0;36mIndex._raise_if_missing\u001b[0;34m(self, key, indexer, axis_name)\u001b[0m\n\u001b[1;32m   6249\u001b[0m     \u001b[39mraise\u001b[39;00m \u001b[39mKeyError\u001b[39;00m(\u001b[39mf\u001b[39m\u001b[39m\"\u001b[39m\u001b[39mNone of [\u001b[39m\u001b[39m{\u001b[39;00mkey\u001b[39m}\u001b[39;00m\u001b[39m] are in the [\u001b[39m\u001b[39m{\u001b[39;00maxis_name\u001b[39m}\u001b[39;00m\u001b[39m]\u001b[39m\u001b[39m\"\u001b[39m)\n\u001b[1;32m   6251\u001b[0m not_found \u001b[39m=\u001b[39m \u001b[39mlist\u001b[39m(ensure_index(key)[missing_mask\u001b[39m.\u001b[39mnonzero()[\u001b[39m0\u001b[39m]]\u001b[39m.\u001b[39munique())\n\u001b[0;32m-> 6252\u001b[0m \u001b[39mraise\u001b[39;00m \u001b[39mKeyError\u001b[39;00m(\u001b[39mf\u001b[39m\u001b[39m\"\u001b[39m\u001b[39m{\u001b[39;00mnot_found\u001b[39m}\u001b[39;00m\u001b[39m not in index\u001b[39m\u001b[39m\"\u001b[39m)\n",
      "\u001b[0;31mKeyError\u001b[0m: \"['total_households', 'single', 'couple_no_kids', 'single_parent', 'with_kids', 'elek_usage', 'uitkering'] not in index\""
     ]
    }
   ],
   "source": [
    "# df = load_household_summary(path)\n",
    "# print(df.head(10))\n"
   ]
  },
  {
   "cell_type": "code",
   "execution_count": null,
   "id": "a3442469-71d2-4098-8578-7de48bec0e54",
   "metadata": {},
   "outputs": [],
   "source": [
    "# if __name__ == \"__main__\":\n",
    "#     df = load_household_summary(path)\n",
    "#     print(df.head(10))"
   ]
  },
  {
   "cell_type": "code",
   "execution_count": null,
   "id": "6af86614-2ff6-4b6c-a27c-4a3d470beeef",
   "metadata": {},
   "outputs": [],
   "source": [
    "plt.figure(figsize=(8, 4))\n",
    "sns.histplot(df[\"total_households\"], bins=50, kde=True)\n",
    "plt.title(\"Distribution of Total Households per PC6\")\n",
    "plt.xlabel(\"Number of Households\")\n",
    "plt.ylabel(\"Frequency\")\n",
    "plt.grid(True)\n",
    "plt.tight_layout()\n",
    "plt.show()\n",
    "\n",
    "plt.figure(figsize=(8, 4))\n",
    "sns.histplot(df[\"elek_usage\"], bins=50, kde=True)\n",
    "plt.title(\"Electricity Usage (kWh) per PC6\")\n",
    "plt.xlabel(\"Elektra Usage (kWh)\")\n",
    "plt.ylabel(\"Frequency\")\n",
    "plt.grid(True)\n",
    "plt.tight_layout()\n",
    "plt.show()\n",
    "\n",
    "df[\"pct_single\"] = df[\"single\"] / df[\"total_households\"]\n",
    "df[\"pct_with_kids\"] = df[\"with_kids\"] / df[\"total_households\"]\n",
    "df[\"pct_lihe\"] = df[\"uitkering\"] / df[\"total_households\"]\n",
    "\n",
    "means = df[[\"pct_single\", \"pct_with_kids\", \"pct_lihe\"]].mean()\n",
    "\n",
    "plt.figure(figsize=(6, 4))\n",
    "sns.barplot(x=means.index, y=means.values)\n",
    "plt.title(\"Average Proportion of Household Features\")\n",
    "plt.ylabel(\"Proportion\")\n",
    "plt.ylim(0, 1)\n",
    "plt.tight_layout()\n",
    "plt.show()\n"
   ]
  }
 ],
 "metadata": {
  "kernelspec": {
   "display_name": "Python 3 (ipykernel)",
   "language": "python",
   "name": "python3"
  },
  "language_info": {
   "codemirror_mode": {
    "name": "ipython",
    "version": 3
   },
   "file_extension": ".py",
   "mimetype": "text/x-python",
   "name": "python",
   "nbconvert_exporter": "python",
   "pygments_lexer": "ipython3",
   "version": "3.11.9"
  }
 },
 "nbformat": 4,
 "nbformat_minor": 5
}
